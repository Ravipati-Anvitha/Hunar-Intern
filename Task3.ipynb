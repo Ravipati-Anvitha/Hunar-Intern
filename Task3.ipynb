{
 "cells": [
  {
   "cell_type": "code",
   "execution_count": 1,
   "id": "42fa6387-a6c4-43d7-8940-0c90295e934e",
   "metadata": {},
   "outputs": [
    {
     "name": "stdout",
     "output_type": "stream",
     "text": [
      "Collecting plyer\n",
      "  Downloading plyer-2.1.0-py2.py3-none-any.whl.metadata (61 kB)\n",
      "     ---------------------------------------- 0.0/61.2 kB ? eta -:--:--\n",
      "     ------------ ------------------------- 20.5/61.2 kB 330.3 kB/s eta 0:00:01\n",
      "     ------------------- ------------------ 30.7/61.2 kB 325.1 kB/s eta 0:00:01\n",
      "     -------------------------------------- 61.2/61.2 kB 407.4 kB/s eta 0:00:00\n",
      "Downloading plyer-2.1.0-py2.py3-none-any.whl (142 kB)\n",
      "   ---------------------------------------- 0.0/142.3 kB ? eta -:--:--\n",
      "   -------------------- ------------------- 71.7/142.3 kB 2.0 MB/s eta 0:00:01\n",
      "   ---------------------------------------- 142.3/142.3 kB 2.1 MB/s eta 0:00:00\n",
      "Installing collected packages: plyer\n",
      "Successfully installed plyer-2.1.0\n",
      "Note: you may need to restart the kernel to use updated packages.\n"
     ]
    }
   ],
   "source": [
    "pip install plyer\n"
   ]
  },
  {
   "cell_type": "code",
   "execution_count": null,
   "id": "bc3306e1-2262-4785-ae20-9794910153f6",
   "metadata": {},
   "outputs": [],
   "source": [
    "import time\n",
    "from plyer import notification\n",
    "\n",
    "def show_notification(title, message):\n",
    "    \n",
    "    notification.notify(\n",
    "        title=title,\n",
    "        message=message,\n",
    "        timeout=10  \n",
    "    )\n",
    "\n",
    "def schedule_notifications(interval, title, message, duration):\n",
    "    \n",
    "    start_time = time.time()\n",
    "    while True:\n",
    "        current_time = time.time()\n",
    "        screen_time = current_time - start_time\n",
    "        if screen_time >= duration:\n",
    "            print(\"Stopping notifications.\")\n",
    "            break\n",
    "        show_notification(title, message)\n",
    "        time.sleep(interval)\n",
    "\n",
    "def user_input():\n",
    "    \n",
    "    title = input(\"Enter the title for the notifications:\")\n",
    "    message = input(\"Enter the message for the notifications:\")\n",
    "    try:\n",
    "        interval = int(input(\"Enter the interval(sec) for notifications:\"))\n",
    "    except ValueError:\n",
    "        print(\"Invalid input\")\n",
    "        interval = 1800 \n",
    "    try:\n",
    "        duration = int(input(\"Enter the duration (sec): \"))\n",
    "    except ValueError:\n",
    "        print(\"Invalid input\")\n",
    "        duration = 3600  \n",
    "    \n",
    "    return title, message, interval, duration\n",
    "\n",
    "\n",
    "show_notification(\"Test Notification\",\"This is for testing\")\n",
    "\n",
    "\n",
    "title, message, interval, duration = user_input()\n",
    "\n",
    "\n",
    "schedule_notifications(interval, title, message, duration)\n"
   ]
  },
  {
   "cell_type": "code",
   "execution_count": null,
   "id": "8abb1dbb-3c48-44c1-b35d-4afc2c764191",
   "metadata": {},
   "outputs": [],
   "source": []
  }
 ],
 "metadata": {
  "kernelspec": {
   "display_name": "Python 3 (ipykernel)",
   "language": "python",
   "name": "python3"
  },
  "language_info": {
   "codemirror_mode": {
    "name": "ipython",
    "version": 3
   },
   "file_extension": ".py",
   "mimetype": "text/x-python",
   "name": "python",
   "nbconvert_exporter": "python",
   "pygments_lexer": "ipython3",
   "version": "3.11.7"
  }
 },
 "nbformat": 4,
 "nbformat_minor": 5
}
