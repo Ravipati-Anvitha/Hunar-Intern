{
 "cells": [
  {
   "cell_type": "code",
   "execution_count": null,
   "id": "cfb3fe8f-5a35-488f-b0b7-07f2484e8e6a",
   "metadata": {},
   "outputs": [],
   "source": [
    "import random\n",
    "\n",
    "def display_game_state(word_to_guess, guessed_letters):\n",
    "    \n",
    "    display_word = ''.join([letter if letter in guessed_letters else '_ ' for letter in word_to_guess])\n",
    "    print(f\"Current word: {display_word}\")\n",
    "    return display_word\n",
    "\n",
    "def word_guessing_game():\n",
    "\n",
    "    words = ['python', 'jupiter', 'notebook', 'programming', 'coding']\n",
    "    word_to_guess = random.choice(words)\n",
    "    guessed_letters = []\n",
    "    attempts = 6  \n",
    "\n",
    "    print(\"correct word\",word_to_guess)\n",
    "\n",
    "    print(\"Word Guessing Game\")\n",
    "    print(\"guess the word, one letter at a time.\")\n",
    "    display_game_state(word_to_guess, guessed_letters)\n",
    "\n",
    "    while attempts > 0:\n",
    "        guess = input(\"Guess a letter: \").lower()\n",
    "\n",
    "        if len(guess) != 1:\n",
    "            print(\"Invalid input\")\n",
    "            continue\n",
    "        \n",
    "        if guess in guessed_letters:\n",
    "            print(\"You have already guessed that letter\")\n",
    "            continue\n",
    "        \n",
    "        guessed_letters.append(guess)\n",
    "        \n",
    "        if guess in word_to_guess:\n",
    "            print(\"guess is correct\")\n",
    "        else:\n",
    "            attempts -= 1\n",
    "            print(f\"Wrong guess. You have {attempts} attempts left.\")\n",
    "        \n",
    "        display_word = display_game_state(word_to_guess, guessed_letters)\n",
    "        \n",
    "        if display_word == word_to_guess:\n",
    "            print(\"YOU WON\")\n",
    "            break\n",
    "    else:\n",
    "        print(f\"Game over, You lost the game the word was '{word_to_guess}'.\")\n",
    "\n",
    "word_guessing_game()"
   ]
  },
  {
   "cell_type": "code",
   "execution_count": null,
   "id": "df35e073-b84d-495c-bf4a-3d80695522d0",
   "metadata": {},
   "outputs": [],
   "source": []
  }
 ],
 "metadata": {
  "kernelspec": {
   "display_name": "Python 3 (ipykernel)",
   "language": "python",
   "name": "python3"
  },
  "language_info": {
   "codemirror_mode": {
    "name": "ipython",
    "version": 3
   },
   "file_extension": ".py",
   "mimetype": "text/x-python",
   "name": "python",
   "nbconvert_exporter": "python",
   "pygments_lexer": "ipython3",
   "version": "3.11.7"
  }
 },
 "nbformat": 4,
 "nbformat_minor": 5
}
